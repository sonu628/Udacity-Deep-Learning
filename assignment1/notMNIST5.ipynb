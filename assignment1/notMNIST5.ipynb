{
 "cells": [
  {
   "cell_type": "code",
   "execution_count": 18,
   "metadata": {},
   "outputs": [],
   "source": [
    "import numpy as np\n",
    "import PIL\n",
    "from six.moves import cPickle as pickle"
   ]
  },
  {
   "cell_type": "code",
   "execution_count": 16,
   "metadata": {},
   "outputs": [],
   "source": [
    "def normalize_image(image, pixel_depth):\n",
    "  return (ndimage.imread(image).astype(float)-pixel_depth/2)/pixel_depth\n",
    "\n",
    "# Retrieve original image from normalized image\n",
    "def unnormalize_image(image, pixel_depth):\n",
    "  return (pixel_depth*image+pixel_depth/2).astype(np.uint8)"
   ]
  },
  {
   "cell_type": "code",
   "execution_count": 45,
   "metadata": {},
   "outputs": [],
   "source": [
    "def image_dhash(image,hsize = 8):\n",
    "    \n",
    "    icon = PIL.Image.fromarray(image).convert('L').resize((hsize+1,hsize),PIL.Image.ANTIALIAS)\n",
    "    icon = np.array(icon)\n",
    "    \n",
    "    diff = np.empty([hsize, hsize], dtype=np.bool_)\n",
    "    \n",
    "    for row in np.arange(hsize):\n",
    "        for col in np.arange(hsize):\n",
    "            diff[row,col] = icon[row,col] > icon[row,col+1]\n",
    "    \n",
    "    hexadecimal = np.empty(hsize, dtype=np.dtype(bytes, hsize/4))\n",
    "    \n",
    "    for i in np.arange(hsize):\n",
    "        hexadecimal[i] = \\\n",
    "        hex(int(''.join(str(b) for b in np.flipud(diff[i, :].astype(int))), 2))[2:].rjust(2, '0')\n",
    "        \n",
    "        \n",
    "    return ''.join(str(hexadecimal))"
   ]
  },
  {
   "cell_type": "code",
   "execution_count": 39,
   "metadata": {},
   "outputs": [],
   "source": [
    "hash_size = 8\n",
    "ntrain = 200000\n",
    "nvalidation = 10000\n",
    "ntest = 10000\n",
    "image_size = 28\n",
    "pixel_depth = 255"
   ]
  },
  {
   "cell_type": "code",
   "execution_count": 40,
   "metadata": {},
   "outputs": [],
   "source": [
    "train_dhashes = np.empty(ntrain, dtype=np.dtype(bytes, (hash_size**2)/4))"
   ]
  },
  {
   "cell_type": "code",
   "execution_count": 73,
   "metadata": {},
   "outputs": [],
   "source": [
    "train_labels = pickle.load(open('notMNIST.pickle','rb'))['train_labels']\n"
   ]
  },
  {
   "cell_type": "code",
   "execution_count": 46,
   "metadata": {},
   "outputs": [],
   "source": [
    "for i in np.arange(ntrain):\n",
    "  train_dhashes[i] = image_dhash(unnormalize_image(train_dataset[i, :, :], pixel_depth))"
   ]
  },
  {
   "cell_type": "code",
   "execution_count": 48,
   "metadata": {},
   "outputs": [],
   "source": [
    "validation_dhashes = np.empty(nvalidation, dtype=np.dtype(bytes, (hash_size**2)/4))"
   ]
  },
  {
   "cell_type": "code",
   "execution_count": 50,
   "metadata": {},
   "outputs": [],
   "source": [
    "valid_dataset = pickle.load(open('notMNIST.pickle','rb'))['valid_dataset']\n",
    "for i in np.arange(nvalidation):\n",
    "  validation_dhashes[i] = \\\n",
    "    image_dhash(unnormalize_image(valid_dataset[i, :, :], pixel_depth))"
   ]
  },
  {
   "cell_type": "code",
   "execution_count": 72,
   "metadata": {},
   "outputs": [],
   "source": [
    "test_dataset = pickle.load(open('notMNIST.pickle','rb'))['test_dataset']"
   ]
  },
  {
   "cell_type": "code",
   "execution_count": null,
   "metadata": {},
   "outputs": [],
   "source": [
    "test_dataset = pickle.load(open('notMNIST.pickle','rb'))['test_dataset']"
   ]
  },
  {
   "cell_type": "code",
   "execution_count": 70,
   "metadata": {},
   "outputs": [],
   "source": [
    "valid_dataset = pickle.load(open('notMNIST.pickle','rb'))['valid_dataset']"
   ]
  },
  {
   "cell_type": "code",
   "execution_count": 76,
   "metadata": {},
   "outputs": [],
   "source": [
    "valid_labels = pickle.load(open('notMNIST.pickle','rb'))['valid_labels']"
   ]
  },
  {
   "cell_type": "code",
   "execution_count": 78,
   "metadata": {},
   "outputs": [],
   "source": [
    "test_labels = pickle.load(open('notMNIST.pickle','rb'))['test_labels']"
   ]
  },
  {
   "cell_type": "code",
   "execution_count": 53,
   "metadata": {},
   "outputs": [],
   "source": [
    "test_dhashes = np.empty(ntest, dtype=np.dtype(bytes, (hash_size**2)/4))\n",
    "\n",
    "for i in np.arange(ntest):\n",
    "  test_dhashes[i] = image_dhash(unnormalize_image(test_dataset[i, :, :], pixel_depth))"
   ]
  },
  {
   "cell_type": "code",
   "execution_count": 54,
   "metadata": {},
   "outputs": [],
   "source": [
    "unique_train_dhashes, unique_train_locations = np.unique(train_dhashes, return_index=True)"
   ]
  },
  {
   "cell_type": "code",
   "execution_count": 57,
   "metadata": {},
   "outputs": [
    {
     "name": "stdout",
     "output_type": "stream",
     "text": [
      "Number of images in train dataset: 200000\n",
      "Number of images in train dataset after excluding near-duplicates: 1\n",
      "0.00% of images in train dataset kept\n"
     ]
    }
   ],
   "source": [
    "print('Number of images in train dataset: %d' % ntrain)\n",
    "print(\n",
    "  'Number of images in train dataset after excluding near-duplicates: %d'\n",
    "  % np.size(unique_train_locations)\n",
    ")\n",
    "print(\n",
    "  '%.2f%% of images in train dataset kept' \n",
    "  % round(100*np.float32(np.size(unique_train_locations))/ntrain, 2)\n",
    ")"
   ]
  },
  {
   "cell_type": "code",
   "execution_count": 58,
   "metadata": {},
   "outputs": [
    {
     "name": "stdout",
     "output_type": "stream",
     "text": [
      "Number of images in validation dataset: 10000\n",
      "Number of images in validation dataset after excluding near-duplicates: 1\n",
      "0.01% of images in validation dataset kept\n"
     ]
    }
   ],
   "source": [
    "unique_validation_dhashes, unique_validation_locations = \\\n",
    "  np.unique(validation_dhashes, return_index=True)\n",
    "\n",
    "print('Number of images in validation dataset: %d' % nvalidation)\n",
    "print(\n",
    "  'Number of images in validation dataset after excluding near-duplicates: %d'\n",
    "  % np.size(unique_validation_locations)\n",
    ")\n",
    "print(\n",
    "  '%.2f%% of images in validation dataset kept' \n",
    "  % round(100*np.float32(np.size(unique_validation_locations))/nvalidation, 2)\n",
    ")"
   ]
  },
  {
   "cell_type": "code",
   "execution_count": 59,
   "metadata": {},
   "outputs": [
    {
     "name": "stdout",
     "output_type": "stream",
     "text": [
      "Total number of images in test dataset: 10000\n",
      "Number of images in test dataset after excluding near-duplicates: 1\n",
      "0.01% of images in test dataset kept\n"
     ]
    }
   ],
   "source": [
    "unique_test_dhashes, unique_test_locations = np.unique(test_dhashes, return_index=True)\n",
    "\n",
    "print('Total number of images in test dataset: %d' % ntest)\n",
    "print(\n",
    "  'Number of images in test dataset after excluding near-duplicates: %d'\n",
    "  % np.size(unique_test_locations)\n",
    ")\n",
    "print(\n",
    "  '%.2f%% of images in test dataset kept' \n",
    "  % round(100*np.float32(np.size(unique_test_locations))/ntest, 2)\n",
    ")"
   ]
  },
  {
   "cell_type": "code",
   "execution_count": 60,
   "metadata": {},
   "outputs": [],
   "source": [
    "def unique_image_crosslocations(scannedset, scannedlocs, baseset, baselocs):\n",
    "  indices = np.array([], dtype=np.int64)\n",
    "\n",
    "  for i in scannedlocs:\n",
    "    if scannedset[i] not in baseset[baselocs]:\n",
    "      indices = np.append(indices, i)\n",
    "\n",
    "  return indices"
   ]
  },
  {
   "cell_type": "code",
   "execution_count": 61,
   "metadata": {},
   "outputs": [],
   "source": [
    "unique_train_locations_vs_test = unique_image_crosslocations(\n",
    "  train_dhashes, unique_train_locations, test_dhashes, unique_test_locations\n",
    ")"
   ]
  },
  {
   "cell_type": "code",
   "execution_count": 62,
   "metadata": {},
   "outputs": [
    {
     "name": "stdout",
     "output_type": "stream",
     "text": [
      "Number of unique images within train dataset: 1\n",
      "Number of unique images in train dataset not in test set: 0\n",
      "0.00% of unique images in train dataset kept\n"
     ]
    }
   ],
   "source": [
    "print(\n",
    "  'Number of unique images within train dataset: %d'\n",
    "  % np.size(unique_train_locations)\n",
    ")\n",
    "print(\n",
    "  'Number of unique images in train dataset not in test set: %d'\n",
    "  % np.size(unique_train_locations_vs_test)\n",
    ")\n",
    "print(\n",
    "  '%.2f%% of unique images in train dataset kept' \n",
    "  % round(\n",
    "    100*np.float32(np.size(unique_train_locations_vs_test))/\n",
    "      np.size(unique_train_locations),\n",
    "    2\n",
    "  )\n",
    ")"
   ]
  },
  {
   "cell_type": "code",
   "execution_count": 63,
   "metadata": {},
   "outputs": [
    {
     "name": "stdout",
     "output_type": "stream",
     "text": [
      "Number of unique images in train set and not in test set: 0\n",
      "Number of unique images in train set and not in test or validation set: 0\n",
      "nan% of unique images in train dataset kept\n",
      "0.00% of images from original train dataset kept\n"
     ]
    },
    {
     "name": "stderr",
     "output_type": "stream",
     "text": [
      "/usr/local/lib/python3.5/dist-packages/ipykernel_launcher.py:21: RuntimeWarning: invalid value encountered in double_scalars\n"
     ]
    }
   ],
   "source": [
    "unique_train_locations_vs_validation = unique_image_crosslocations(\n",
    "  train_dhashes,\n",
    "  unique_train_locations_vs_test,\n",
    "  validation_dhashes,\n",
    "  unique_validation_locations\n",
    ")\n",
    "\n",
    "ntrain_sanitized = np.size(unique_train_locations_vs_validation)\n",
    "\n",
    "print(\n",
    "  'Number of unique images in train set and not in test set: %d'\n",
    "  % np.size(unique_train_locations_vs_test)\n",
    ")\n",
    "print(\n",
    "  'Number of unique images in train set and not in test or validation set: %d'\n",
    "  % ntrain_sanitized\n",
    ")\n",
    "print(\n",
    "  '%.2f%% of unique images in train dataset kept' \n",
    "  % round(\n",
    "    100*np.float32(ntrain_sanitized)/np.size(unique_train_locations_vs_test),\n",
    "    2\n",
    "  )\n",
    ")\n",
    "print(\n",
    "  '%.2f%% of images from original train dataset kept' \n",
    "  % round(100*np.float32(np.size(unique_train_locations_vs_validation))/ntrain, 2)\n",
    ")"
   ]
  },
  {
   "cell_type": "code",
   "execution_count": 64,
   "metadata": {},
   "outputs": [
    {
     "name": "stdout",
     "output_type": "stream",
     "text": [
      "Number of unique images within validation dataset: 1\n",
      "Number of unique images in validation set and not in test set: 0\n",
      "0.00% of unique images in validation dataset kept\n",
      "0.00% of images from original validation dataset kept\n"
     ]
    }
   ],
   "source": [
    "unique_validation_locations_vs_test = unique_image_crosslocations(\n",
    "  validation_dhashes,\n",
    "  unique_validation_locations,\n",
    "  test_dhashes,\n",
    "  unique_test_locations\n",
    ")\n",
    "\n",
    "nvalidation_sanitized = np.size(unique_validation_locations_vs_test)\n",
    "ntest_sanitized = np.size(unique_test_locations)\n",
    "\n",
    "print(\n",
    "  'Number of unique images within validation dataset: %d'\n",
    "  % np.size(unique_validation_locations)\n",
    ")\n",
    "print(\n",
    "  'Number of unique images in validation set and not in test set: %d'\n",
    "  % nvalidation_sanitized\n",
    ")\n",
    "print(\n",
    "  '%.2f%% of unique images in validation dataset kept' \n",
    "  % round(\n",
    "    100*np.float32(nvalidation_sanitized)/np.size(unique_validation_locations),\n",
    "    2\n",
    "  )\n",
    ")\n",
    "print(\n",
    "  '%.2f%% of images from original validation dataset kept' \n",
    "  % round(100*np.float32(nvalidation_sanitized)/nvalidation, 2)\n",
    ")"
   ]
  },
  {
   "cell_type": "code",
   "execution_count": 65,
   "metadata": {},
   "outputs": [
    {
     "name": "stdout",
     "output_type": "stream",
     "text": [
      "Number of images in original train set: 200000\n",
      "Number of images in sanitized train set: 0\n",
      "0.00% of images from original train set kept in sanitized train set\n",
      "\n",
      "\n",
      "Number of images in original validation set: 10000\n",
      "Number of images in sanitized validation set: 0\n",
      "0.00% of images from original validation set kept in sanitized validation set\n",
      "\n",
      "\n",
      "Number of images in original test set: 10000\n",
      "Number of images in sanitized test set: 1\n",
      "0.01% of images from original test set kept in sanitized test set\n"
     ]
    }
   ],
   "source": [
    "print('Number of images in original train set: %d' % ntrain)\n",
    "print('Number of images in sanitized train set: %d' % ntrain_sanitized)\n",
    "print(\n",
    "  '%.2f%% of images from original train set kept in sanitized train set' \n",
    "  % round(100*np.float32(ntrain_sanitized)/ntrain, 2)\n",
    ")\n",
    "\n",
    "print('\\n')\n",
    "\n",
    "print('Number of images in original validation set: %d' % nvalidation)\n",
    "print('Number of images in sanitized validation set: %d' % nvalidation_sanitized)\n",
    "print(\n",
    "  '%.2f%% of images from original validation set kept in sanitized validation set' \n",
    "  % round(100*np.float32(nvalidation_sanitized)/nvalidation, 2)\n",
    ")\n",
    "\n",
    "print('\\n')\n",
    "\n",
    "print('Number of images in original test set: %d' % ntest)\n",
    "print('Number of images in sanitized test set: %d' % ntest_sanitized)\n",
    "print(\n",
    "  '%.2f%% of images from original test set kept in sanitized test set' \n",
    "  % round(100*np.float32(ntest_sanitized)/ntest, 2)\n",
    ")"
   ]
  },
  {
   "cell_type": "code",
   "execution_count": 66,
   "metadata": {},
   "outputs": [],
   "source": [
    "def hamming_distance(h1, h2):\n",
    "  if len(h1) != len(h2):\n",
    "    raise ValueError(\"Undefined for hashes of unequal length\")\n",
    "\n",
    "  return sum(c1 != c2 for c1, c2 in zip(h1, h2))"
   ]
  },
  {
   "cell_type": "code",
   "execution_count": 67,
   "metadata": {},
   "outputs": [],
   "source": [
    "def unique_image_hamming_crosslocations(\n",
    "  scannedset, scannedlocs, baseset, baselocs, lb, monitor=None):\n",
    "  indices = np.array([], dtype=np.int64)\n",
    "\n",
    "  if monitor is not None:\n",
    "    k = 0\n",
    "    n = np.size(scannedlocs)\n",
    "    \n",
    "  for i in scannedlocs:\n",
    "    if monitor is not None:\n",
    "      k += 1\n",
    "      if k % monitor == 0:\n",
    "        print('%.2f%% completed' % round(100*np.float32(k)/n, 2))\n",
    "\n",
    "    u = True\n",
    "    \n",
    "    for j in baselocs:\n",
    "      if hamming_distance(scannedset[i], baseset[j]) < lb:\n",
    "        u = False\n",
    "        break\n",
    "\n",
    "    if u:\n",
    "      indices = np.append(indices, i)\n",
    "    \n",
    "  return indices"
   ]
  },
  {
   "cell_type": "code",
   "execution_count": 79,
   "metadata": {},
   "outputs": [],
   "source": [
    "data_dict= {\n",
    "    'train_dataset': train_dataset[unique_train_locations_vs_validation, :, :],\n",
    "    'train_labels': train_labels[unique_train_locations_vs_validation],\n",
    "    'ntrain' : np.size(unique_train_locations_vs_validation),\n",
    "    'valid_dataset': valid_dataset[unique_validation_locations_vs_test, :, :],\n",
    "    'valid_labels': valid_labels[unique_validation_locations_vs_test],\n",
    "    'nvalidation': np.size(unique_validation_locations_vs_test),\n",
    "    'test_dataset': test_dataset[unique_test_locations, :, :],\n",
    "    'test_labels': test_labels[unique_test_locations],\n",
    "    'ntest' : np.size(unique_test_locations)\n",
    "  }"
   ]
  },
  {
   "cell_type": "code",
   "execution_count": 82,
   "metadata": {},
   "outputs": [],
   "source": [
    "f = open('notMNIST.pickle', 'wb')\n",
    "pickle.dump(data_dict, f, pickle.HIGHEST_PROTOCOL)"
   ]
  },
  {
   "cell_type": "code",
   "execution_count": null,
   "metadata": {},
   "outputs": [],
   "source": []
  }
 ],
 "metadata": {
  "kernelspec": {
   "display_name": "Python 3",
   "language": "python",
   "name": "python3"
  },
  "language_info": {
   "codemirror_mode": {
    "name": "ipython",
    "version": 3
   },
   "file_extension": ".py",
   "mimetype": "text/x-python",
   "name": "python",
   "nbconvert_exporter": "python",
   "pygments_lexer": "ipython3",
   "version": "3.5.2"
  }
 },
 "nbformat": 4,
 "nbformat_minor": 2
}
