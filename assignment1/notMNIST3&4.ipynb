{
 "cells": [
  {
   "cell_type": "code",
   "execution_count": 1,
   "metadata": {},
   "outputs": [],
   "source": [
    "import numpy as np\n",
    "import pandas as pd\n",
    "import matplotlib.pyplot as plt\n",
    "import os\n",
    "from six.moves import cPickle as pickle"
   ]
  },
  {
   "cell_type": "code",
   "execution_count": 2,
   "metadata": {},
   "outputs": [
    {
     "name": "stdout",
     "output_type": "stream",
     "text": [
      "['F.pickle', 'J.pickle', 'C.pickle', 'A.pickle', 'D.pickle', 'I.pickle', 'H.pickle', 'B.pickle', 'G.pickle', 'E.pickle']\n",
      "['F.pickle', 'J.pickle', 'C.pickle', 'A.pickle', 'D.pickle', 'I.pickle', 'H.pickle', 'B.pickle', 'G.pickle', 'E.pickle']\n"
     ]
    }
   ],
   "source": [
    "train_datasets = os.listdir('notMNIST_large')\n",
    "train_datasets = [i for i in train_datasets if i[-7:] == \".pickle\"]\n",
    "print(train_datasets)\n",
    "\n",
    "test_datasets = os.listdir('notMNIST_small')\n",
    "test_datasets = [i for i in test_datasets if i[-7:] == \".pickle\"]\n",
    "print(test_datasets)"
   ]
  },
  {
   "cell_type": "code",
   "execution_count": 3,
   "metadata": {},
   "outputs": [],
   "source": [
    "image_size = 28"
   ]
  },
  {
   "cell_type": "code",
   "execution_count": 4,
   "metadata": {},
   "outputs": [],
   "source": [
    "def make_arrays(nb_rows, img_size):\n",
    "  if nb_rows:\n",
    "    dataset = np.ndarray((nb_rows, img_size, img_size), dtype=np.float32)\n",
    "    labels = np.ndarray(nb_rows, dtype=np.int32)\n",
    "  else:\n",
    "    dataset, labels = None, None\n",
    "  return dataset, labels"
   ]
  },
  {
   "cell_type": "code",
   "execution_count": 5,
   "metadata": {},
   "outputs": [],
   "source": [
    "def merge_datasets(pickle_files,train_size,valid_size=0):\n",
    "    num_classes = len(pickle_files)\n",
    "    valid_dataset, valid_labels = make_arrays(valid_size,image_size)\n",
    "    train_dataset, train_labels = make_arrays(train_size,image_size)\n",
    "    \n",
    "    vsize_per_class = valid_size // num_classes\n",
    "    tsize_per_class = train_size // num_classes\n",
    "    \n",
    "    start_v, start_t= 0, 0\n",
    "    end_v, end_t = vsize_per_class, tsize_per_class\n",
    "    end_l = vsize_per_class+tsize_per_class\n",
    "    \n",
    "    for label, pickle_file in enumerate(pickle_files): \n",
    "        try:\n",
    "            \n",
    "            if(valid_size is not 0):\n",
    "                pickle_file = 'notMNIST_large/' + pickle_file\n",
    "            else:\n",
    "                pickle_file = 'notMNIST_small/' + pickle_file\n",
    "            \n",
    "            print(pickle_file)\n",
    "            with open(pickle_file, 'rb') as f:\n",
    "                letter_set = pickle.load(f)\n",
    "                \n",
    "                np.random.shuffle(letter_set)\n",
    "                if valid_dataset is not None:\n",
    "                    valid_letter = letter_set[:vsize_per_class, :, :]\n",
    "                    valid_dataset[start_v:end_v, :, :] = valid_letter\n",
    "                    valid_labels[start_v:end_v] = label\n",
    "                    start_v += vsize_per_class\n",
    "                    end_v += vsize_per_class\n",
    "                    \n",
    "                train_letter = letter_set[vsize_per_class:end_l, :, :]\n",
    "                print(train_letter.shape)\n",
    "                print(end_l-vsize_per_class)\n",
    "                print(end_t-start_t)\n",
    "                train_dataset[start_t:end_t, :, :] = train_letter\n",
    "                train_labels[start_t:end_t] = label\n",
    "                start_t += tsize_per_class\n",
    "                end_t += tsize_per_class\n",
    "        \n",
    "        except Exception as e:\n",
    "            print('Unable to process data from', pickle_file, ':', e)\n",
    "            raise\n",
    "            \n",
    "    return valid_dataset, valid_labels, train_dataset, train_labels"
   ]
  },
  {
   "cell_type": "code",
   "execution_count": 6,
   "metadata": {},
   "outputs": [],
   "source": [
    "train_size = 200000\n",
    "valid_size = 10000\n",
    "test_size = 10000"
   ]
  },
  {
   "cell_type": "code",
   "execution_count": 7,
   "metadata": {},
   "outputs": [
    {
     "name": "stdout",
     "output_type": "stream",
     "text": [
      "notMNIST_large/F.pickle\n",
      "(20000, 28, 28)\n",
      "20000\n",
      "20000\n",
      "notMNIST_large/J.pickle\n",
      "(20000, 28, 28)\n",
      "20000\n",
      "20000\n",
      "notMNIST_large/C.pickle\n",
      "(20000, 28, 28)\n",
      "20000\n",
      "20000\n",
      "notMNIST_large/A.pickle\n",
      "(20000, 28, 28)\n",
      "20000\n",
      "20000\n",
      "notMNIST_large/D.pickle\n",
      "(20000, 28, 28)\n",
      "20000\n",
      "20000\n",
      "notMNIST_large/I.pickle\n",
      "(20000, 28, 28)\n",
      "20000\n",
      "20000\n",
      "notMNIST_large/H.pickle\n",
      "(20000, 28, 28)\n",
      "20000\n",
      "20000\n",
      "notMNIST_large/B.pickle\n",
      "(20000, 28, 28)\n",
      "20000\n",
      "20000\n",
      "notMNIST_large/G.pickle\n",
      "(20000, 28, 28)\n",
      "20000\n",
      "20000\n",
      "notMNIST_large/E.pickle\n",
      "(20000, 28, 28)\n",
      "20000\n",
      "20000\n"
     ]
    }
   ],
   "source": [
    "valid_dataset, valid_labels, train_dataset, train_labels = merge_datasets(\n",
    "  train_datasets, train_size, valid_size)"
   ]
  },
  {
   "cell_type": "code",
   "execution_count": 8,
   "metadata": {},
   "outputs": [
    {
     "name": "stdout",
     "output_type": "stream",
     "text": [
      "notMNIST_small/F.pickle\n",
      "(1000, 28, 28)\n",
      "1000\n",
      "1000\n",
      "notMNIST_small/J.pickle\n",
      "(1000, 28, 28)\n",
      "1000\n",
      "1000\n",
      "notMNIST_small/C.pickle\n",
      "(1000, 28, 28)\n",
      "1000\n",
      "1000\n",
      "notMNIST_small/A.pickle\n",
      "(1000, 28, 28)\n",
      "1000\n",
      "1000\n",
      "notMNIST_small/D.pickle\n",
      "(1000, 28, 28)\n",
      "1000\n",
      "1000\n",
      "notMNIST_small/I.pickle\n",
      "(1000, 28, 28)\n",
      "1000\n",
      "1000\n",
      "notMNIST_small/H.pickle\n",
      "(1000, 28, 28)\n",
      "1000\n",
      "1000\n",
      "notMNIST_small/B.pickle\n",
      "(1000, 28, 28)\n",
      "1000\n",
      "1000\n",
      "notMNIST_small/G.pickle\n",
      "(1000, 28, 28)\n",
      "1000\n",
      "1000\n",
      "notMNIST_small/E.pickle\n",
      "(1000, 28, 28)\n",
      "1000\n",
      "1000\n"
     ]
    }
   ],
   "source": [
    "_, _, test_dataset, test_labels = merge_datasets(test_datasets, test_size)"
   ]
  },
  {
   "cell_type": "code",
   "execution_count": 9,
   "metadata": {},
   "outputs": [
    {
     "name": "stdout",
     "output_type": "stream",
     "text": [
      "Training: (200000, 28, 28) (200000,)\n",
      "Validation: (10000, 28, 28) (10000,)\n",
      "Testing: (10000, 28, 28) (10000,)\n"
     ]
    }
   ],
   "source": [
    "print('Training:', train_dataset.shape, train_labels.shape)\n",
    "print('Validation:', valid_dataset.shape, valid_labels.shape)\n",
    "print('Testing:', test_dataset.shape, test_labels.shape)"
   ]
  },
  {
   "cell_type": "code",
   "execution_count": 10,
   "metadata": {},
   "outputs": [],
   "source": [
    "def randomize(dataset, labels):\n",
    "  print(labels.shape)\n",
    "  permutation = np.random.permutation(labels.shape[0])\n",
    "  print(permutation)\n",
    "  shuffled_dataset = dataset[permutation,:,:]\n",
    "  shuffled_labels = labels[permutation]\n",
    "  return shuffled_dataset, shuffled_labels\n"
   ]
  },
  {
   "cell_type": "code",
   "execution_count": 11,
   "metadata": {},
   "outputs": [
    {
     "name": "stdout",
     "output_type": "stream",
     "text": [
      "(200000,)\n",
      "[ 71901  68816 104943 ... 117402 126177  43233]\n",
      "(10000,)\n",
      "[7659 9240 8746 ... 1331 9960 8649]\n",
      "(10000,)\n",
      "[8605 4321 8246 ... 8529 2283 2263]\n"
     ]
    }
   ],
   "source": [
    "train_dataset, train_labels = randomize(train_dataset, train_labels)\n",
    "test_dataset, test_labels = randomize(test_dataset, test_labels)\n",
    "valid_dataset, valid_labels = randomize(valid_dataset, valid_labels)"
   ]
  },
  {
   "cell_type": "code",
   "execution_count": 12,
   "metadata": {},
   "outputs": [],
   "source": [
    "data_root = '.'\n",
    "pickle_file = os.path.join(data_root, 'notMNIST.pickle')"
   ]
  },
  {
   "cell_type": "code",
   "execution_count": 13,
   "metadata": {},
   "outputs": [],
   "source": [
    "try:\n",
    "  f = open(pickle_file, 'wb')\n",
    "  save = {\n",
    "    'train_dataset': train_dataset,\n",
    "    'train_labels': train_labels,\n",
    "    'valid_dataset': valid_dataset,\n",
    "    'valid_labels': valid_labels,\n",
    "    'test_dataset': test_dataset,\n",
    "    'test_labels': test_labels,\n",
    "    }\n",
    "  pickle.dump(save, f, pickle.HIGHEST_PROTOCOL)\n",
    "  f.close()\n",
    "except Exception as e:\n",
    "  print('Unable to save data to', pickle_file, ':', e)\n",
    "  raise"
   ]
  },
  {
   "cell_type": "code",
   "execution_count": 14,
   "metadata": {},
   "outputs": [
    {
     "name": "stdout",
     "output_type": "stream",
     "text": [
      "Compressed pickle size: 690800512\n"
     ]
    }
   ],
   "source": [
    "statinfo = os.stat(pickle_file)\n",
    "print('Compressed pickle size:', statinfo.st_size)"
   ]
  },
  {
   "cell_type": "code",
   "execution_count": null,
   "metadata": {},
   "outputs": [],
   "source": []
  },
  {
   "cell_type": "code",
   "execution_count": null,
   "metadata": {},
   "outputs": [],
   "source": []
  }
 ],
 "metadata": {
  "kernelspec": {
   "display_name": "Python 3",
   "language": "python",
   "name": "python3"
  },
  "language_info": {
   "codemirror_mode": {
    "name": "ipython",
    "version": 3
   },
   "file_extension": ".py",
   "mimetype": "text/x-python",
   "name": "python",
   "nbconvert_exporter": "python",
   "pygments_lexer": "ipython3",
   "version": "3.5.2"
  }
 },
 "nbformat": 4,
 "nbformat_minor": 2
}
