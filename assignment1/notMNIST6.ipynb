{
 "cells": [
  {
   "cell_type": "code",
   "execution_count": 55,
   "metadata": {},
   "outputs": [],
   "source": [
    "from six.moves import cPickle as pickle\n",
    "import numpy as np"
   ]
  },
  {
   "cell_type": "code",
   "execution_count": 56,
   "metadata": {},
   "outputs": [],
   "source": [
    "with open('notMNIST.pickle', 'rb') as f:\n",
    "  dataset = pickle.load(f)"
   ]
  },
  {
   "cell_type": "code",
   "execution_count": 59,
   "metadata": {},
   "outputs": [],
   "source": [
    "dataset['ntest'] = len(dataset['test_dataset']) \n",
    "test_indices = np.arange(dataset['ntest'])\n",
    "\n",
    "n_test = np.size(test_indices)\n",
    "\n",
    "test_X = dataset['test_dataset'][test_indices, :, :]\n",
    "test_X = test_X.reshape(n_test, np.shape(test_X)[1]*np.shape(test_X)[2])\n",
    "\n",
    "test_y = dataset['test_labels'][test_indices]"
   ]
  },
  {
   "cell_type": "code",
   "execution_count": 60,
   "metadata": {},
   "outputs": [],
   "source": [
    "n_train = 50\n",
    "dataset['ntrain'] = 50\n",
    "train_indices = \\\n",
    "  np.random.choice(np.arange(dataset['ntrain']), n_train, replace=False)\n",
    "\n",
    "train_X = dataset['train_dataset'][train_indices, :, :]\n",
    "train_X = train_X.reshape(n_train, np.shape(train_X)[1]*np.shape(train_X)[2])\n",
    "\n",
    "train_y = dataset['train_labels'][train_indices]"
   ]
  },
  {
   "cell_type": "code",
   "execution_count": 63,
   "metadata": {},
   "outputs": [],
   "source": [
    "n_train = 50\n",
    "\n",
    "train_indices = \\\n",
    "  np.random.choice(np.arange(dataset['ntrain']), n_train, replace=False)\n",
    "\n",
    "train_X = dataset['train_dataset'][train_indices, :, :]\n",
    "train_X = train_X.reshape(n_train, np.shape(train_X)[1]*np.shape(train_X)[2])\n",
    "\n",
    "train_y = dataset['train_labels'][train_indices]"
   ]
  },
  {
   "cell_type": "code",
   "execution_count": 64,
   "metadata": {},
   "outputs": [],
   "source": [
    "from sklearn.linear_model import LogisticRegression"
   ]
  },
  {
   "cell_type": "code",
   "execution_count": 69,
   "metadata": {},
   "outputs": [],
   "source": [
    "logreg = LogisticRegression(C=1e5, multi_class='multinomial', solver='lbfgs')\n"
   ]
  },
  {
   "cell_type": "code",
   "execution_count": 70,
   "metadata": {},
   "outputs": [],
   "source": [
    "logreg = LogisticRegression(C=1e5, multi_class='multinomial', solver='lbfgs')\n"
   ]
  },
  {
   "cell_type": "code",
   "execution_count": 72,
   "metadata": {},
   "outputs": [],
   "source": [
    "para = logreg.get_params();"
   ]
  },
  {
   "cell_type": "code",
   "execution_count": 73,
   "metadata": {},
   "outputs": [
    {
     "data": {
      "text/plain": [
       "{'C': 100000.0,\n",
       " 'class_weight': None,\n",
       " 'dual': False,\n",
       " 'fit_intercept': True,\n",
       " 'intercept_scaling': 1,\n",
       " 'max_iter': 100,\n",
       " 'multi_class': 'multinomial',\n",
       " 'n_jobs': 1,\n",
       " 'penalty': 'l2',\n",
       " 'random_state': None,\n",
       " 'solver': 'lbfgs',\n",
       " 'tol': 0.0001,\n",
       " 'verbose': 0,\n",
       " 'warm_start': False}"
      ]
     },
     "execution_count": 73,
     "metadata": {},
     "output_type": "execute_result"
    }
   ],
   "source": [
    "para"
   ]
  },
  {
   "cell_type": "code",
   "execution_count": 80,
   "metadata": {},
   "outputs": [
    {
     "data": {
      "text/plain": [
       "LogisticRegression(C=100000.0, class_weight=None, dual=False,\n",
       "          fit_intercept=True, intercept_scaling=1, max_iter=100,\n",
       "          multi_class='multinomial', n_jobs=1, penalty='l2',\n",
       "          random_state=None, solver='lbfgs', tol=0.0001, verbose=0,\n",
       "          warm_start=False)"
      ]
     },
     "execution_count": 80,
     "metadata": {},
     "output_type": "execute_result"
    }
   ],
   "source": [
    "logreg.fit(train_X, train_y)"
   ]
  },
  {
   "cell_type": "raw",
   "metadata": {},
   "source": [
    "logreg.coeff_"
   ]
  },
  {
   "cell_type": "code",
   "execution_count": 83,
   "metadata": {},
   "outputs": [
    {
     "data": {
      "text/plain": [
       "0.602"
      ]
     },
     "execution_count": 83,
     "metadata": {},
     "output_type": "execute_result"
    }
   ],
   "source": [
    "logreg.score(test_X, test_y)"
   ]
  },
  {
   "cell_type": "code",
   "execution_count": 85,
   "metadata": {},
   "outputs": [
    {
     "name": "stdout",
     "output_type": "stream",
     "text": [
      "Number of images in test set: 10000\n",
      "Number of correctly predicted images in test set: 6020\n",
      "0.60% of images in test set correctly predicted\n"
     ]
    }
   ],
   "source": [
    "print('Number of images in test set: %d' % n_test)\n",
    "print(\n",
    "  'Number of correctly predicted images in test set: %d'\n",
    "  % sum(np.equal(logreg.predict(test_X), test_y)))\n",
    "print(\n",
    "  '%.2f%% of images in test set correctly predicted' \n",
    "  % round(np.float32(sum(np.equal(logreg.predict(test_X), test_y)))/n_test, 2)\n",
    ")"
   ]
  },
  {
   "cell_type": "code",
   "execution_count": 89,
   "metadata": {},
   "outputs": [
    {
     "data": {
      "text/plain": [
       "0.7071"
      ]
     },
     "execution_count": 89,
     "metadata": {},
     "output_type": "execute_result"
    }
   ],
   "source": [
    "dataset['ntrain'] = len(dataset['train_dataset'])\n",
    "n_train = 100\n",
    "\n",
    "train_indices = \\\n",
    "  np.random.choice(np.arange(dataset['ntrain']), n_train, replace=False)\n",
    "\n",
    "train_X = dataset['train_dataset'][train_indices, :, :]\n",
    "train_X = train_X.reshape(n_train, np.shape(train_X)[1]*np.shape(train_X)[2])\n",
    "\n",
    "train_y = dataset['train_labels'][train_indices]\n",
    "\n",
    "logreg = LogisticRegression(C=1e5, multi_class='multinomial', solver='lbfgs')\n",
    "\n",
    "logreg.fit(train_X, train_y)\n",
    "\n",
    "logreg.score(test_X, test_y)"
   ]
  },
  {
   "cell_type": "code",
   "execution_count": 92,
   "metadata": {},
   "outputs": [
    {
     "data": {
      "text/plain": [
       "0.8171"
      ]
     },
     "execution_count": 92,
     "metadata": {},
     "output_type": "execute_result"
    }
   ],
   "source": [
    "n_train = 1000\n",
    "\n",
    "train_indices = \\\n",
    "  np.random.choice(np.arange(dataset['ntrain']), n_train, replace=False)\n",
    "\n",
    "train_X = dataset['train_dataset'][train_indices, :, :]\n",
    "train_X = train_X.reshape(n_train, np.shape(train_X)[1]*np.shape(train_X)[2])\n",
    "\n",
    "train_y = dataset['train_labels'][train_indices]\n",
    "\n",
    "logreg = LogisticRegression(C=1e5, multi_class='multinomial', solver='lbfgs')\n",
    "\n",
    "logreg.fit(train_X, train_y)\n",
    "\n",
    "logreg.score(test_X, test_y)"
   ]
  },
  {
   "cell_type": "code",
   "execution_count": 93,
   "metadata": {},
   "outputs": [
    {
     "data": {
      "text/plain": [
       "0.7958"
      ]
     },
     "execution_count": 93,
     "metadata": {},
     "output_type": "execute_result"
    }
   ],
   "source": [
    "n_train = 5000\n",
    "\n",
    "train_indices = \\\n",
    "  np.random.choice(np.arange(dataset['ntrain']), n_train, replace=False)\n",
    "\n",
    "train_X = dataset['train_dataset'][train_indices, :, :]\n",
    "train_X = train_X.reshape(n_train, np.shape(train_X)[1]*np.shape(train_X)[2])\n",
    "\n",
    "train_y = dataset['train_labels'][train_indices]\n",
    "\n",
    "logreg = LogisticRegression(C=1e5, multi_class='multinomial', solver='lbfgs')\n",
    "\n",
    "logreg.fit(train_X, train_y)\n",
    "\n",
    "logreg.score(test_X, test_y)"
   ]
  },
  {
   "cell_type": "code",
   "execution_count": null,
   "metadata": {},
   "outputs": [],
   "source": []
  }
 ],
 "metadata": {
  "kernelspec": {
   "display_name": "Python 3",
   "language": "python",
   "name": "python3"
  },
  "language_info": {
   "codemirror_mode": {
    "name": "ipython",
    "version": 3
   },
   "file_extension": ".py",
   "mimetype": "text/x-python",
   "name": "python",
   "nbconvert_exporter": "python",
   "pygments_lexer": "ipython3",
   "version": "3.5.2"
  }
 },
 "nbformat": 4,
 "nbformat_minor": 2
}
