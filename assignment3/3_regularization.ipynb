{
 "cells": [
  {
   "cell_type": "markdown",
   "metadata": {
    "colab_type": "text",
    "id": "kR-4eNdK6lYS"
   },
   "source": [
    "Deep Learning\n",
    "=============\n",
    "\n",
    "Assignment 3\n",
    "------------\n",
    "\n",
    "Previously in `2_fullyconnected.ipynb`, you trained a logistic regression and a neural network model.\n",
    "\n",
    "The goal of this assignment is to explore regularization techniques."
   ]
  },
  {
   "cell_type": "code",
   "execution_count": 1,
   "metadata": {
    "cellView": "both",
    "colab": {
     "autoexec": {
      "startup": false,
      "wait_interval": 0
     }
    },
    "colab_type": "code",
    "id": "JLpLa8Jt7Vu4"
   },
   "outputs": [
    {
     "name": "stderr",
     "output_type": "stream",
     "text": [
      "/usr/local/lib/python3.5/dist-packages/h5py/__init__.py:36: FutureWarning: Conversion of the second argument of issubdtype from `float` to `np.floating` is deprecated. In future, it will be treated as `np.float64 == np.dtype(float).type`.\n",
      "  from ._conv import register_converters as _register_converters\n"
     ]
    }
   ],
   "source": [
    "# These are all the modules we'll be using later. Make sure you can import them\n",
    "# before proceeding further.\n",
    "from __future__ import print_function\n",
    "import numpy as np\n",
    "import tensorflow as tf\n",
    "from six.moves import cPickle as pickle"
   ]
  },
  {
   "cell_type": "markdown",
   "metadata": {
    "colab_type": "text",
    "id": "1HrCK6e17WzV"
   },
   "source": [
    "First reload the data we generated in `1_notmnist.ipynb`."
   ]
  },
  {
   "cell_type": "code",
   "execution_count": 2,
   "metadata": {
    "cellView": "both",
    "colab": {
     "autoexec": {
      "startup": false,
      "wait_interval": 0
     },
     "output_extras": [
      {
       "item_id": 1
      }
     ]
    },
    "colab_type": "code",
    "executionInfo": {
     "elapsed": 11777,
     "status": "ok",
     "timestamp": 1449849322348,
     "user": {
      "color": "",
      "displayName": "",
      "isAnonymous": false,
      "isMe": true,
      "permissionId": "",
      "photoUrl": "",
      "sessionId": "0",
      "userId": ""
     },
     "user_tz": 480
    },
    "id": "y3-cj1bpmuxc",
    "outputId": "e03576f1-ebbe-4838-c388-f1777bcc9873"
   },
   "outputs": [
    {
     "name": "stdout",
     "output_type": "stream",
     "text": [
      "Training set (200000, 28, 28) (200000,)\n",
      "Validation set (10000, 28, 28) (10000,)\n",
      "Test set (10000, 28, 28) (10000,)\n"
     ]
    }
   ],
   "source": [
    "pickle_file = 'notMNIST.pickle'\n",
    "\n",
    "with open(pickle_file, 'rb') as f:\n",
    "  save = pickle.load(f)\n",
    "  train_dataset = save['train_dataset']\n",
    "  train_labels = save['train_labels']\n",
    "  valid_dataset = save['valid_dataset']\n",
    "  valid_labels = save['valid_labels']\n",
    "  test_dataset = save['test_dataset']\n",
    "  test_labels = save['test_labels']\n",
    "  del save  # hint to help gc free up memory\n",
    "  print('Training set', train_dataset.shape, train_labels.shape)\n",
    "  print('Validation set', valid_dataset.shape, valid_labels.shape)\n",
    "  print('Test set', test_dataset.shape, test_labels.shape)"
   ]
  },
  {
   "cell_type": "markdown",
   "metadata": {
    "colab_type": "text",
    "id": "L7aHrm6nGDMB"
   },
   "source": [
    "Reformat into a shape that's more adapted to the models we're going to train:\n",
    "- data as a flat matrix,\n",
    "- labels as float 1-hot encodings."
   ]
  },
  {
   "cell_type": "code",
   "execution_count": 3,
   "metadata": {
    "cellView": "both",
    "colab": {
     "autoexec": {
      "startup": false,
      "wait_interval": 0
     },
     "output_extras": [
      {
       "item_id": 1
      }
     ]
    },
    "colab_type": "code",
    "executionInfo": {
     "elapsed": 11728,
     "status": "ok",
     "timestamp": 1449849322356,
     "user": {
      "color": "",
      "displayName": "",
      "isAnonymous": false,
      "isMe": true,
      "permissionId": "",
      "photoUrl": "",
      "sessionId": "0",
      "userId": ""
     },
     "user_tz": 480
    },
    "id": "IRSyYiIIGIzS",
    "outputId": "3f8996ee-3574-4f44-c953-5c8a04636582"
   },
   "outputs": [
    {
     "name": "stdout",
     "output_type": "stream",
     "text": [
      "Training set (200000, 784) (200000, 10)\n",
      "Validation set (10000, 784) (10000, 10)\n",
      "Test set (10000, 784) (10000, 10)\n"
     ]
    }
   ],
   "source": [
    "image_size = 28\n",
    "num_labels = 10\n",
    "\n",
    "def reformat(dataset, labels):\n",
    "  dataset = dataset.reshape((-1, image_size * image_size)).astype(np.float32)\n",
    "  # Map 1 to [0.0, 1.0, 0.0 ...], 2 to [0.0, 0.0, 1.0 ...]\n",
    "  labels = (np.arange(num_labels) == labels[:,None]).astype(np.float32)\n",
    "  return dataset, labels\n",
    "train_dataset, train_labels = reformat(train_dataset, train_labels)\n",
    "valid_dataset, valid_labels = reformat(valid_dataset, valid_labels)\n",
    "test_dataset, test_labels = reformat(test_dataset, test_labels)\n",
    "print('Training set', train_dataset.shape, train_labels.shape)\n",
    "print('Validation set', valid_dataset.shape, valid_labels.shape)\n",
    "print('Test set', test_dataset.shape, test_labels.shape)"
   ]
  },
  {
   "cell_type": "code",
   "execution_count": 4,
   "metadata": {
    "cellView": "both",
    "colab": {
     "autoexec": {
      "startup": false,
      "wait_interval": 0
     }
    },
    "colab_type": "code",
    "id": "RajPLaL_ZW6w"
   },
   "outputs": [],
   "source": [
    "def accuracy(predictions, labels):\n",
    "  return (100.0 * np.sum(np.argmax(predictions, 1) == np.argmax(labels, 1))\n",
    "          / predictions.shape[0])"
   ]
  },
  {
   "cell_type": "markdown",
   "metadata": {
    "colab_type": "text",
    "id": "sgLbUAQ1CW-1"
   },
   "source": [
    "---\n",
    "\n",
    "\n",
    "---------\n",
    "Problem 1\n",
    "---\n",
    "Introduce and tune L2 regularization for both logistic and neural network models. Remember that L2 amounts to adding a penalty on the norm of the weights to the loss. In TensorFlow, you can compute the L2 loss for a tensor t using nn.l2_loss(t). The right amount of regularization should improve your validation / test accuracy.\n"
   ]
  },
  {
   "cell_type": "code",
   "execution_count": 5,
   "metadata": {},
   "outputs": [],
   "source": [
    "train_subset = 10000\n",
    "beta = 0.01"
   ]
  },
  {
   "cell_type": "code",
   "execution_count": 6,
   "metadata": {},
   "outputs": [],
   "source": [
    "graph = tf.Graph()"
   ]
  },
  {
   "cell_type": "code",
   "execution_count": 7,
   "metadata": {
    "scrolled": true
   },
   "outputs": [
    {
     "name": "stdout",
     "output_type": "stream",
     "text": [
      "WARNING:tensorflow:From <ipython-input-7-b90716740fd6>:13: softmax_cross_entropy_with_logits (from tensorflow.python.ops.nn_ops) is deprecated and will be removed in a future version.\n",
      "Instructions for updating:\n",
      "\n",
      "Future major versions of TensorFlow will allow gradients to flow\n",
      "into the labels input on backprop by default.\n",
      "\n",
      "See tf.nn.softmax_cross_entropy_with_logits_v2.\n",
      "\n"
     ]
    }
   ],
   "source": [
    "with graph.as_default():\n",
    "    \n",
    "    tf_train_dataset = tf.constant(train_dataset[:train_subset, :])\n",
    "    tf_train_labels = tf.constant(train_labels[:train_subset])\n",
    "    tf_valid_dataset = tf.constant(valid_dataset)\n",
    "    tf_test_dataset = tf.constant(test_dataset)\n",
    "  \n",
    "    weights = tf.Variable(tf.truncated_normal([image_size * image_size, num_labels]))\n",
    "    biases = tf.Variable(tf.zeros([num_labels]))\n",
    "  \n",
    "    logits = tf.matmul(tf_train_dataset, weights) + biases \n",
    "    \n",
    "    loss = tf.reduce_mean(tf.nn.softmax_cross_entropy_with_logits(labels=tf_train_labels,logits=logits))\n",
    "    \n",
    "    regularizer = tf.nn.l2_loss(weights)\n",
    "    loss = tf.reduce_mean(loss + beta * regularizer)\n",
    "    \n",
    "    # Optimizer.\n",
    "    optimizer = tf.train.GradientDescentOptimizer(0.5).minimize(loss)\n",
    "  \n",
    "    # Predictions for the training, validation, and test data.\n",
    "    train_prediction = tf.nn.softmax(logits)\n",
    "    valid_prediction = tf.nn.softmax( tf.matmul(tf_valid_dataset, weights) + biases )\n",
    "    test_prediction = tf.nn.softmax(tf.matmul(tf_test_dataset, weights) + biases)"
   ]
  },
  {
   "cell_type": "code",
   "execution_count": 8,
   "metadata": {},
   "outputs": [],
   "source": [
    "num_steps = 901"
   ]
  },
  {
   "cell_type": "code",
   "execution_count": 9,
   "metadata": {},
   "outputs": [
    {
     "name": "stdout",
     "output_type": "stream",
     "text": [
      "WARNING:tensorflow:From /usr/local/lib/python3.5/dist-packages/tensorflow/python/util/tf_should_use.py:118: initialize_all_variables (from tensorflow.python.ops.variables) is deprecated and will be removed after 2017-03-02.\n",
      "Instructions for updating:\n",
      "Use `tf.global_variables_initializer` instead.\n",
      "Initialized\n",
      "Loss at step 0: 49.5975227355957\n",
      "Training accuracy: 7.9\n",
      "Validation accuracy: 10.5\n",
      "Loss at step 100: 11.793355941772461\n",
      "Training accuracy: 73.2\n",
      "Validation accuracy: 71.4\n",
      "Loss at step 200: 4.478046417236328\n",
      "Training accuracy: 78.6\n",
      "Validation accuracy: 76.4\n",
      "Loss at step 300: 1.989488124847412\n",
      "Training accuracy: 82.0\n",
      "Validation accuracy: 79.4\n",
      "Loss at step 400: 1.1425964832305908\n",
      "Training accuracy: 83.4\n",
      "Validation accuracy: 80.9\n",
      "Loss at step 500: 0.851237416267395\n",
      "Training accuracy: 83.8\n",
      "Validation accuracy: 81.3\n",
      "Loss at step 600: 0.7498509883880615\n",
      "Training accuracy: 84.1\n",
      "Validation accuracy: 81.5\n",
      "Loss at step 700: 0.7142601013183594\n",
      "Training accuracy: 84.1\n",
      "Validation accuracy: 81.6\n",
      "Loss at step 800: 0.7016791105270386\n",
      "Training accuracy: 84.2\n",
      "Validation accuracy: 81.7\n",
      "Loss at step 900: 0.6972043514251709\n",
      "Training accuracy: 84.3\n",
      "Validation accuracy: 81.6\n",
      "Test accuracy: 88.9\n"
     ]
    }
   ],
   "source": [
    "with tf.Session(graph=graph) as session:\n",
    "    # This is a one-time operation which ensures the parameters get initialized as\n",
    "    # we described in the graph: random weights for the matrix, zeros for the\n",
    "    # biases. \n",
    "    tf.initialize_all_variables().run()\n",
    "    print('Initialized')\n",
    "    for step in range(num_steps):\n",
    "    # Run the computations. We tell .run() that we want to run the optimizer,\n",
    "    # and get the loss value and the training predictions returned as numpy\n",
    "    # arrays.\n",
    "        _, l, predictions = session.run([optimizer, loss, train_prediction])\n",
    "        if (step % 100 == 0):\n",
    "            print('Loss at step {}: {}'.format(step, l))\n",
    "            print('Training accuracy: {:.1f}'.format(accuracy(predictions, \n",
    "                                                         train_labels[:train_subset, :])))\n",
    "            # Calling .eval() on valid_prediction is basically like calling run(), but\n",
    "            # just to get that one numpy array. Note that it recomputes all its graph\n",
    "            # dependencies.\n",
    "            \n",
    "            # You don't have to do .eval above because we already ran the session for the\n",
    "            # train_prediction\n",
    "            print('Validation accuracy: {:.1f}'.format(accuracy(valid_prediction.eval(), \n",
    "                                                           valid_labels)))\n",
    "    print('Test accuracy: {:.1f}'.format(accuracy(test_prediction.eval(), test_labels))) "
   ]
  },
  {
   "cell_type": "markdown",
   "metadata": {
    "colab_type": "text",
    "id": "na8xX2yHZzNF"
   },
   "source": [
    "---\n",
    "with Relu and Hidden Layer\n",
    "---------\n",
    "---"
   ]
  },
  {
   "cell_type": "code",
   "execution_count": 10,
   "metadata": {},
   "outputs": [
    {
     "data": {
      "text/plain": [
       "0.01"
      ]
     },
     "execution_count": 10,
     "metadata": {},
     "output_type": "execute_result"
    }
   ],
   "source": [
    "num_hidden_size = 1024\n",
    "batch_size = 128\n",
    "beta"
   ]
  },
  {
   "cell_type": "code",
   "execution_count": 11,
   "metadata": {},
   "outputs": [],
   "source": [
    "with graph.as_default():\n",
    "    \n",
    "    tf_train_dataset = tf.placeholder(tf.float32, shape=(batch_size, image_size * image_size))\n",
    "    tf_train_labels = tf.placeholder(tf.float32, shape=(batch_size, num_labels))\n",
    "    tf_valid_dataset = tf.constant(valid_dataset)\n",
    "    tf_test_dataset = tf.constant(test_dataset)\n",
    "  \n",
    "    weights_1 = tf.Variable(tf.truncated_normal([image_size * image_size, num_hidden_size]))\n",
    "    biases_1 = tf.Variable(tf.zeros([num_hidden_size]))\n",
    "    weights_2 = tf.Variable(tf.truncated_normal([num_hidden_size, num_labels]))\n",
    "    biases_2 = tf.Variable(tf.zeros([num_labels]))\n",
    "  \n",
    "    logits = tf.matmul(\n",
    "             tf.nn.relu(tf.matmul(tf_train_dataset, weights_1) + biases_1), weights_2) + biases_2\n",
    "    \n",
    "    loss = tf.reduce_mean(tf.nn.softmax_cross_entropy_with_logits(labels=tf_train_labels,logits=logits))\n",
    "    \n",
    "    regularizer = tf.nn.l2_loss(weights)\n",
    "    loss = tf.reduce_mean(loss + beta * regularizer)\n",
    "    \n",
    "    # Optimizer.\n",
    "    optimizer = tf.train.GradientDescentOptimizer(0.5).minimize(loss)\n",
    "  \n",
    "    # Predictions for the training, validation, and test data.\n",
    "    train_prediction = tf.nn.softmax(logits)\n",
    "    valid_prediction = tf.nn.softmax(\n",
    "    tf.matmul(tf.nn.relu(tf.matmul(tf_valid_dataset, weights_1) + biases_1), weights_2) + biases_2)\n",
    "    test_prediction = tf.nn.softmax(\n",
    "    tf.matmul(tf.nn.relu(tf.matmul(tf_test_dataset, weights_1) + biases_1), weights_2) + biases_2)"
   ]
  },
  {
   "cell_type": "code",
   "execution_count": 12,
   "metadata": {},
   "outputs": [],
   "source": [
    "num_steps = 3001"
   ]
  },
  {
   "cell_type": "code",
   "execution_count": 13,
   "metadata": {},
   "outputs": [
    {
     "name": "stdout",
     "output_type": "stream",
     "text": [
      "Initialized\n",
      "Minibatch loss at step 0: 340.1021728515625\n",
      "Minibatch accuracy: 14.8\n",
      "Validation accuracy: 23.2\n",
      "Minibatch loss at step 500: 25.479236602783203\n",
      "Minibatch accuracy: 71.1\n",
      "Validation accuracy: 80.4\n",
      "Minibatch loss at step 1000: 18.312572479248047\n",
      "Minibatch accuracy: 80.5\n",
      "Validation accuracy: 80.6\n",
      "Minibatch loss at step 1500: 12.253643989562988\n",
      "Minibatch accuracy: 78.9\n",
      "Validation accuracy: 79.1\n",
      "Minibatch loss at step 2000: 9.486692428588867\n",
      "Minibatch accuracy: 75.8\n",
      "Validation accuracy: 80.3\n",
      "Minibatch loss at step 2500: 3.4978082180023193\n",
      "Minibatch accuracy: 78.9\n",
      "Validation accuracy: 81.2\n",
      "Minibatch loss at step 3000: 9.046502113342285\n",
      "Minibatch accuracy: 81.2\n",
      "Validation accuracy: 81.4\n",
      "Test accuracy: 88.6\n"
     ]
    }
   ],
   "source": [
    "num_steps = 3001\n",
    "\n",
    "with tf.Session(graph=graph) as session:\n",
    "    tf.initialize_all_variables().run()\n",
    "    print(\"Initialized\")\n",
    "    for step in range(num_steps):\n",
    "        \n",
    "        offset = (step * batch_size) % (train_labels.shape[0] - batch_size)\n",
    "        \n",
    "        batch_data = train_dataset[offset:(offset + batch_size), :]\n",
    "        batch_labels = train_labels[offset:(offset + batch_size), :]\n",
    "        \n",
    "        feed_dict = {\n",
    "            tf_train_dataset : batch_data,\n",
    "            tf_train_labels : batch_labels\n",
    "        }\n",
    "        \n",
    "        _, l, predictions = session.run([optimizer, loss, train_prediction], feed_dict=feed_dict)\n",
    "        \n",
    "        if (step % 500 == 0):\n",
    "            print(\"Minibatch loss at step {}: {}\".format(step, l))\n",
    "            print(\"Minibatch accuracy: {:.1f}\".format(accuracy(predictions, batch_labels)))\n",
    "            print(\"Validation accuracy: {:.1f}\".format(accuracy(valid_prediction.eval(), valid_labels)))\n",
    "    print(\"Test accuracy: {:.1f}\".format(accuracy(test_prediction.eval(), test_labels)))"
   ]
  },
  {
   "cell_type": "markdown",
   "metadata": {},
   "source": [
    "---\n",
    "Problem 2\n",
    "---------\n",
    "Let's demonstrate an extreme case of overfitting. Restrict your training data to just a few batches. What happens?\n",
    "\n",
    "---"
   ]
  },
  {
   "cell_type": "code",
   "execution_count": 14,
   "metadata": {},
   "outputs": [
    {
     "name": "stdout",
     "output_type": "stream",
     "text": [
      "Initialized\n",
      "Minibatch loss at step 0: 350.6313781738281\n",
      "Minibatch accuracy: 10.2\n",
      "Validation accuracy: 31.6\n",
      "Minibatch loss at step 500: 0.2855239510536194\n",
      "Minibatch accuracy: 99.2\n",
      "Validation accuracy: 74.9\n",
      "Minibatch loss at step 1000: 0.6987132430076599\n",
      "Minibatch accuracy: 99.2\n",
      "Validation accuracy: 75.0\n",
      "Minibatch loss at step 1500: 0.3522646129131317\n",
      "Minibatch accuracy: 99.2\n",
      "Validation accuracy: 75.0\n",
      "Minibatch loss at step 2000: 0.05342712253332138\n",
      "Minibatch accuracy: 99.2\n",
      "Validation accuracy: 75.0\n",
      "Minibatch loss at step 2500: 0.07131868600845337\n",
      "Minibatch accuracy: 99.2\n",
      "Validation accuracy: 75.0\n",
      "Minibatch loss at step 3000: 0.0001278442214243114\n",
      "Minibatch accuracy: 100.0\n",
      "Validation accuracy: 75.0\n",
      "Test accuracy: 83.2\n"
     ]
    }
   ],
   "source": [
    "num_steps = 3001\n",
    "\n",
    "train_dataset_2 = train_dataset[:500,:]\n",
    "train_labels_2 = train_labels[:500]\n",
    "\n",
    "with tf.Session(graph=graph) as session:\n",
    "    tf.initialize_all_variables().run()\n",
    "    print(\"Initialized\")\n",
    "    for step in range(num_steps):\n",
    "        \n",
    "        offset = (step * batch_size) % (train_labels_2.shape[0] - batch_size)\n",
    "        \n",
    "        batch_data = train_dataset_2[offset:(offset + batch_size), :]\n",
    "        batch_labels = train_labels_2[offset:(offset + batch_size), :]\n",
    "        \n",
    "        feed_dict = {\n",
    "            tf_train_dataset : batch_data,\n",
    "            tf_train_labels : batch_labels\n",
    "        }\n",
    "        \n",
    "        _, l, predictions = session.run([optimizer, loss, train_prediction], feed_dict=feed_dict)\n",
    "        \n",
    "        if (step % 500 == 0):\n",
    "            print(\"Minibatch loss at step {}: {}\".format(step, l))\n",
    "            print(\"Minibatch accuracy: {:.1f}\".format(accuracy(predictions, batch_labels)))\n",
    "            print(\"Validation accuracy: {:.1f}\".format(accuracy(valid_prediction.eval(), valid_labels)))\n",
    "    print(\"Test accuracy: {:.1f}\".format(accuracy(test_prediction.eval(), test_labels)))"
   ]
  },
  {
   "cell_type": "markdown",
   "metadata": {
    "colab_type": "text",
    "id": "ww3SCBUdlkRc"
   },
   "source": [
    "---\n",
    "Problem 3\n",
    "----------\n",
    "Introduce Dropout on the hidden layer of the neural network. Remember: Dropout should only be introduced during training, not evaluation, otherwise your evaluation results would be stochastic as well. TensorFlow provides `nn.dropout()` for that, but you have to make sure it's only inserted during training.\n",
    "\n",
    "What happens to our extreme overfitting case?\n",
    "\n",
    "---"
   ]
  },
  {
   "cell_type": "code",
   "execution_count": 15,
   "metadata": {},
   "outputs": [
    {
     "data": {
      "text/plain": [
       "1024"
      ]
     },
     "execution_count": 15,
     "metadata": {},
     "output_type": "execute_result"
    }
   ],
   "source": [
    "num_hidden_size"
   ]
  },
  {
   "cell_type": "code",
   "execution_count": null,
   "metadata": {},
   "outputs": [],
   "source": []
  },
  {
   "cell_type": "code",
   "execution_count": 16,
   "metadata": {},
   "outputs": [],
   "source": [
    "with graph.as_default():\n",
    "    \n",
    "    tf_train_dataset = tf.placeholder(tf.float32, shape=(batch_size, image_size * image_size))\n",
    "    tf_train_labels = tf.placeholder(tf.float32, shape=(batch_size, num_labels))\n",
    "    tf_valid_dataset = tf.constant(valid_dataset)\n",
    "    tf_test_dataset = tf.constant(test_dataset)\n",
    "  \n",
    "    weights_1 = tf.Variable(tf.truncated_normal([image_size * image_size, num_hidden_size]))\n",
    "    biases_1 = tf.Variable(tf.zeros([num_hidden_size]))\n",
    "    \n",
    "    weights_2 = tf.Variable(tf.truncated_normal([num_hidden_size, num_labels]))\n",
    "    biases_2 = tf.Variable(tf.zeros([num_labels]))\n",
    "  \n",
    "    logits = tf.nn.relu(tf.matmul(tf_train_dataset, weights_1) + biases_1)\n",
    "    keep_prob = tf.placeholder(\"float\")\n",
    "    logits = tf.nn.dropout(logits,keep_prob)\n",
    "    logits = tf.matmul(logits,weights_2) + biases_2\n",
    "    \n",
    "    loss = tf.reduce_mean(tf.nn.softmax_cross_entropy_with_logits(labels=tf_train_labels,logits=logits))\n",
    "    \n",
    "    regularizers = tf.nn.l2_loss(weights_1) + tf.nn.l2_loss(weights_2)\n",
    "    loss = tf.reduce_mean(loss + beta * regularizer)\n",
    "    \n",
    "    # Optimizer.\n",
    "    optimizer = tf.train.GradientDescentOptimizer(0.5).minimize(loss)\n",
    "  \n",
    "    # Predictions for the training, validation, and test data.\n",
    "    train_prediction = tf.nn.softmax(logits)\n",
    "    \n",
    "    logits = tf.nn.relu(tf.matmul(tf_valid_dataset, weights_1) + biases_1)\n",
    "#     keep_prob = tf.placeholder(\"float\")\n",
    "#     logits = tf.nn.dropout(logits,keep_prob)\n",
    "    logits = tf.matmul(logits,weights_2) + biases_2\n",
    "    \n",
    "    valid_prediction = tf.nn.softmax(logits)\n",
    "    \n",
    "    logits = tf.nn.relu(tf.matmul(tf_test_dataset, weights_1) + biases_1)\n",
    "#     keep_prob = tf.placeholder(\"float\")\n",
    "#     logits = tf.nn.dropout(logits,keep_prob)\n",
    "    logits = tf.matmul(logits,weights_2) + biases_2\n",
    "    \n",
    "    test_prediction = tf.nn.softmax(logits)"
   ]
  },
  {
   "cell_type": "code",
   "execution_count": null,
   "metadata": {},
   "outputs": [],
   "source": []
  },
  {
   "cell_type": "code",
   "execution_count": 17,
   "metadata": {},
   "outputs": [
    {
     "name": "stdout",
     "output_type": "stream",
     "text": [
      "Initialized\n",
      "Minibatch loss at step 0: 513.34619140625\n",
      "Minibatch accuracy: 9.4\n",
      "Validation accuracy: 19.9\n",
      "Minibatch loss at step 500: 36.724430084228516\n",
      "Minibatch accuracy: 66.4\n",
      "Validation accuracy: 79.3\n",
      "Minibatch loss at step 1000: 24.718204498291016\n",
      "Minibatch accuracy: 71.9\n",
      "Validation accuracy: 80.1\n",
      "Minibatch loss at step 1500: 13.10416316986084\n",
      "Minibatch accuracy: 75.0\n",
      "Validation accuracy: 79.8\n",
      "Minibatch loss at step 2000: 19.1185245513916\n",
      "Minibatch accuracy: 78.1\n",
      "Validation accuracy: 77.8\n",
      "Minibatch loss at step 2500: 7.437963485717773\n",
      "Minibatch accuracy: 72.7\n",
      "Validation accuracy: 79.8\n",
      "Minibatch loss at step 3000: 10.99866771697998\n",
      "Minibatch accuracy: 72.7\n",
      "Validation accuracy: 79.5\n",
      "Test accuracy: 87.6\n"
     ]
    }
   ],
   "source": [
    "num_steps = 3001\n",
    "\n",
    "with tf.Session(graph=graph) as session:\n",
    "    tf.initialize_all_variables().run()\n",
    "    print(\"Initialized\")\n",
    "    for step in range(num_steps):\n",
    "        \n",
    "        offset = (step * batch_size) % (train_labels.shape[0] - batch_size)\n",
    "        \n",
    "        batch_data = train_dataset[offset:(offset + batch_size), :]\n",
    "        batch_labels = train_labels[offset:(offset + batch_size), :]\n",
    "        \n",
    "        feed_dict = {\n",
    "            tf_train_dataset : batch_data,\n",
    "            tf_train_labels : batch_labels,\n",
    "            keep_prob : 0.5\n",
    "        }\n",
    "        \n",
    "        _, l, predictions = session.run([optimizer, loss, train_prediction], feed_dict=feed_dict)\n",
    "        \n",
    "        if (step % 500 == 0):\n",
    "            print(\"Minibatch loss at step {}: {}\".format(step, l))\n",
    "            print(\"Minibatch accuracy: {:.1f}\".format(accuracy(predictions, batch_labels)))\n",
    "            print(\"Validation accuracy: {:.1f}\".format(accuracy(valid_prediction.eval(), valid_labels)))\n",
    "    print(\"Test accuracy: {:.1f}\".format(accuracy(test_prediction.eval(), test_labels)))"
   ]
  },
  {
   "cell_type": "markdown",
   "metadata": {
    "colab_type": "text",
    "id": "-b1hTz3VWZjw"
   },
   "source": [
    "---\n",
    "Problem 4\n",
    "---------\n",
    "\n",
    "Try to get the best performance you can using a multi-layer model! The best reported test accuracy using a deep network is [97.1%](http://yaroslavvb.blogspot.com/2011/09/notmnist-dataset.html?showComment=1391023266211#c8758720086795711595).\n",
    "\n",
    "One avenue you can explore is to add multiple layers.\n",
    "\n",
    "Another one is to use learning rate decay:\n",
    "\n",
    "    global_step = tf.Variable(0)  # count the number of steps taken.\n",
    "    learning_rate = tf.train.exponential_decay(0.5, global_step, ...)\n",
    "    optimizer = tf.train.GradientDescentOptimizer(learning_rate).minimize(loss, global_step=global_step)\n",
    " \n",
    " ---\n"
   ]
  },
  {
   "cell_type": "code",
   "execution_count": 18,
   "metadata": {},
   "outputs": [],
   "source": [
    "import math as math"
   ]
  },
  {
   "cell_type": "code",
   "execution_count": 30,
   "metadata": {},
   "outputs": [],
   "source": [
    "batch_size = 256\n",
    "beta = 0.001\n",
    "\n",
    "hidden_nodes_1 = 1024\n",
    "hidden_nodes_2 = int(hidden_nodes_1 * 0.5)\n",
    "hidden_nodes_3 = int(hidden_nodes_1 * np.power(0.5, 2))\n",
    "hidden_nodes_4 = int(hidden_nodes_1 * np.power(0.5, 3))\n",
    "hidden_nodes_5 = int(hidden_nodes_1 * np.power(0.5, 4))"
   ]
  },
  {
   "cell_type": "code",
   "execution_count": 31,
   "metadata": {},
   "outputs": [],
   "source": [
    "graph = tf.Graph()\n",
    "with graph.as_default():\n",
    "    \n",
    "    tf_train_dataset = tf.placeholder(tf.float32, shape=(batch_size, image_size * image_size))\n",
    "    tf_train_labels = tf.placeholder(tf.float32, shape=(batch_size, num_labels))\n",
    "    tf_valid_dataset = tf.constant(valid_dataset)\n",
    "    tf_test_dataset = tf.constant(test_dataset)\n",
    "    \n",
    "    weights_1 = tf.Variable(tf.truncated_normal([image_size * image_size, hidden_nodes_1], stddev=math.sqrt(2.0/(image_size*image_size))))\n",
    "    biases_1 = tf.Variable(tf.zeros([hidden_nodes_1]))\n",
    "    \n",
    "    weights_2 = tf.Variable(tf.truncated_normal([hidden_nodes_1, hidden_nodes_2], stddev=math.sqrt(2.0/hidden_nodes_1)))\n",
    "    biases_2 = tf.Variable(tf.zeros([hidden_nodes_2]))\n",
    "    \n",
    "    weights_3 = tf.Variable(tf.truncated_normal([hidden_nodes_2, hidden_nodes_3], stddev=math.sqrt(2.0/hidden_nodes_2)))\n",
    "    biases_3 = tf.Variable(tf.zeros([hidden_nodes_3]))\n",
    "    \n",
    "    weights_4 = tf.Variable(tf.truncated_normal([hidden_nodes_3, hidden_nodes_4], stddev=math.sqrt(2.0/hidden_nodes_3)))\n",
    "    biases_4 = tf.Variable(tf.zeros([hidden_nodes_4]))\n",
    "    \n",
    "    weights_5 = tf.Variable(tf.truncated_normal([hidden_nodes_4, hidden_nodes_5], stddev=math.sqrt(2.0/hidden_nodes_4)))\n",
    "    biases_5 = tf.Variable(tf.zeros([hidden_nodes_5]))\n",
    "    \n",
    "    weights_6 = tf.Variable(tf.truncated_normal([hidden_nodes_5, num_labels], stddev=math.sqrt(2.0/hidden_nodes_5)))\n",
    "    biases_6 = tf.Variable(tf.zeros([num_labels]))\n",
    "    \n",
    "    logit = tf.matmul(tf_train_dataset, weights_1) + biases_1\n",
    "    logit = tf.nn.relu(logit)\n",
    "    keep_prob = tf.placeholder(\"float\")\n",
    "    logit = tf.nn.dropout(logit, keep_prob)\n",
    "    \n",
    "    logit = tf.matmul(logit, weights_2) + biases_2\n",
    "    logit = tf.nn.relu(logit)\n",
    "#     keep_prob = tf.placeholder(\"float\")\n",
    "    logit = tf.nn.dropout(logit, keep_prob)\n",
    "    \n",
    "    logit = tf.matmul(logit, weights_3) + biases_3\n",
    "    logit = tf.nn.relu(logit)\n",
    "#     keep_prob = tf.placeholder(\"float\")\n",
    "    logit = tf.nn.dropout(logit, keep_prob)\n",
    "    \n",
    "    logit = tf.matmul(logit, weights_4) + biases_4\n",
    "    logit = tf.nn.relu(logit)\n",
    "#     keep_prob = tf.placeholder(\"float\")\n",
    "    logit = tf.nn.dropout(logit, keep_prob)\n",
    "    \n",
    "    logit = tf.matmul(logit, weights_5) + biases_5\n",
    "    logit = tf.nn.relu(logit)\n",
    "#     keep_prob = tf.placeholder(\"float\")\n",
    "    logit = tf.nn.dropout(logit, keep_prob)\n",
    "    \n",
    "    logit = tf.matmul(logit, weights_6) + biases_6\n",
    "    \n",
    "    loss = tf.reduce_mean(tf.nn.softmax_cross_entropy_with_logits(logits = logit, labels = tf_train_labels))\n",
    "    \n",
    "    regularizers = tf.nn.l2_loss(weights_1) + tf.nn.l2_loss(weights_2) + \\\n",
    "                   tf.nn.l2_loss(weights_3) + tf.nn.l2_loss(weights_4) + \\\n",
    "                   tf.nn.l2_loss(weights_5) + tf.nn.l2_loss(weights_6)\n",
    "    loss = tf.reduce_mean(loss + beta * regularizers)\n",
    "    \n",
    "    global_step = tf.Variable(0)\n",
    "    start_learning_rate = 0.5\n",
    "    learning_rate = tf.train.exponential_decay(start_learning_rate, global_step, 100000, 0.96, staircase=True)\n",
    "    optimizer = tf.train.GradientDescentOptimizer(learning_rate).minimize(loss, global_step=global_step)\n",
    "    train_prediction = tf.nn.softmax(logit)\n",
    "    \n",
    "    logit = tf.matmul(tf_valid_dataset, weights_1) + biases_1\n",
    "    logit = tf.nn.relu(logit)\n",
    "    \n",
    "    logit = tf.matmul(logit, weights_2) + biases_2\n",
    "    logit = tf.nn.relu(logit)\n",
    "    \n",
    "    logit = tf.matmul(logit, weights_3) + biases_3\n",
    "    logit = tf.nn.relu(logit)\n",
    "    \n",
    "    logit = tf.matmul(logit, weights_4) + biases_4\n",
    "    logit = tf.nn.relu(logit)\n",
    "    \n",
    "    logit = tf.matmul(logit, weights_5) + biases_5\n",
    "    logit = tf.nn.relu(logit)\n",
    "    \n",
    "    logit = tf.matmul(logit,weights_6) + biases_6\n",
    "    \n",
    "    valid_prediction = tf.nn.softmax(logit)\n",
    "    \n",
    "    logit = tf.matmul(tf_test_dataset, weights_1) + biases_1\n",
    "    logit = tf.nn.relu(logit)\n",
    "    \n",
    "    logit = tf.matmul(logit, weights_2) + biases_2\n",
    "    logit = tf.nn.relu(logit)\n",
    "    \n",
    "    logit = tf.matmul(logit, weights_3) + biases_3\n",
    "    logit = tf.nn.relu(logit)\n",
    "    \n",
    "    logit = tf.matmul(logit, weights_4) + biases_4\n",
    "    logit = tf.nn.relu(logit)\n",
    "    \n",
    "    logit = tf.matmul(logit, weights_5) + biases_5\n",
    "    logit = tf.nn.relu(logit)\n",
    "    \n",
    "    logit = tf.matmul(logit,weights_6) + biases_6\n",
    "    \n",
    "    test_prediction = tf.nn.softmax(logit)\n",
    "    \n",
    "    "
   ]
  },
  {
   "cell_type": "code",
   "execution_count": 32,
   "metadata": {},
   "outputs": [
    {
     "name": "stdout",
     "output_type": "stream",
     "text": [
      "Initialized\n",
      "Minibatch loss at step 0: 4.964610576629639\n",
      "Minibatch accuracy: 9.4\n",
      "Validation accuracy: 10.4\n",
      "Minibatch loss at step 500: 1.6070706844329834\n",
      "Minibatch accuracy: 83.2\n",
      "Validation accuracy: 83.8\n",
      "Minibatch loss at step 1000: 1.2926691770553589\n",
      "Minibatch accuracy: 83.2\n",
      "Validation accuracy: 85.0\n",
      "Minibatch loss at step 1500: 0.9492639303207397\n",
      "Minibatch accuracy: 87.5\n",
      "Validation accuracy: 85.7\n",
      "Minibatch loss at step 2000: 0.9010024070739746\n",
      "Minibatch accuracy: 84.0\n",
      "Validation accuracy: 86.5\n",
      "Minibatch loss at step 2500: 0.8876545429229736\n",
      "Minibatch accuracy: 82.4\n",
      "Validation accuracy: 85.7\n",
      "Minibatch loss at step 3000: 0.8265504837036133\n",
      "Minibatch accuracy: 82.0\n",
      "Validation accuracy: 86.8\n",
      "Minibatch loss at step 3500: 0.6111668944358826\n",
      "Minibatch accuracy: 89.8\n",
      "Validation accuracy: 86.8\n",
      "Minibatch loss at step 4000: 0.6868302226066589\n",
      "Minibatch accuracy: 83.6\n",
      "Validation accuracy: 87.0\n",
      "Minibatch loss at step 4500: 0.6629272103309631\n",
      "Minibatch accuracy: 85.2\n",
      "Validation accuracy: 87.1\n",
      "Minibatch loss at step 5000: 0.7868698239326477\n",
      "Minibatch accuracy: 85.2\n",
      "Validation accuracy: 87.6\n",
      "Minibatch loss at step 5500: 0.7248049974441528\n",
      "Minibatch accuracy: 84.8\n",
      "Validation accuracy: 87.4\n",
      "Minibatch loss at step 6000: 0.6886733770370483\n",
      "Minibatch accuracy: 86.7\n",
      "Validation accuracy: 87.5\n",
      "Minibatch loss at step 6500: 0.7566494345664978\n",
      "Minibatch accuracy: 85.5\n",
      "Validation accuracy: 87.6\n",
      "Minibatch loss at step 7000: 0.7628811001777649\n",
      "Minibatch accuracy: 82.4\n",
      "Validation accuracy: 87.3\n",
      "Minibatch loss at step 7500: 0.5583277940750122\n",
      "Minibatch accuracy: 89.5\n",
      "Validation accuracy: 87.8\n",
      "Minibatch loss at step 8000: 0.6384359002113342\n",
      "Minibatch accuracy: 89.8\n",
      "Validation accuracy: 87.5\n",
      "Minibatch loss at step 8500: 0.6019673347473145\n",
      "Minibatch accuracy: 89.5\n",
      "Validation accuracy: 87.9\n",
      "Minibatch loss at step 9000: 0.6744365692138672\n",
      "Minibatch accuracy: 85.5\n",
      "Validation accuracy: 87.8\n",
      "Minibatch loss at step 9500: 0.6838164925575256\n",
      "Minibatch accuracy: 85.2\n",
      "Validation accuracy: 87.9\n",
      "Minibatch loss at step 10000: 0.7358744144439697\n",
      "Minibatch accuracy: 84.4\n",
      "Validation accuracy: 87.8\n",
      "Minibatch loss at step 10500: 0.7013828754425049\n",
      "Minibatch accuracy: 85.2\n",
      "Validation accuracy: 87.1\n",
      "Minibatch loss at step 11000: 0.744053840637207\n",
      "Minibatch accuracy: 85.5\n",
      "Validation accuracy: 87.6\n",
      "Minibatch loss at step 11500: 0.6663545370101929\n",
      "Minibatch accuracy: 85.9\n",
      "Validation accuracy: 87.4\n",
      "Minibatch loss at step 12000: 0.6826909184455872\n",
      "Minibatch accuracy: 84.8\n",
      "Validation accuracy: 87.7\n",
      "Minibatch loss at step 12500: 0.6396921873092651\n",
      "Minibatch accuracy: 87.1\n",
      "Validation accuracy: 88.0\n",
      "Minibatch loss at step 13000: 0.5944175720214844\n",
      "Minibatch accuracy: 89.5\n",
      "Validation accuracy: 87.9\n",
      "Minibatch loss at step 13500: 0.7908998727798462\n",
      "Minibatch accuracy: 85.2\n",
      "Validation accuracy: 87.6\n",
      "Minibatch loss at step 14000: 0.599342405796051\n",
      "Minibatch accuracy: 89.1\n",
      "Validation accuracy: 88.1\n",
      "Minibatch loss at step 14500: 0.6539710164070129\n",
      "Minibatch accuracy: 87.1\n",
      "Validation accuracy: 87.5\n",
      "Test accuracy: 94.3\n"
     ]
    }
   ],
   "source": [
    "num_steps = 15000\n",
    "\n",
    "with tf.Session(graph=graph) as session:\n",
    "    tf.initialize_all_variables().run()\n",
    "    print(\"Initialized\")\n",
    "    for step in range(num_steps):\n",
    "        \n",
    "        offset = (step * batch_size) % (train_labels.shape[0] - batch_size)\n",
    "        \n",
    "        batch_data = train_dataset[offset:(offset + batch_size), :]\n",
    "        batch_labels = train_labels[offset:(offset + batch_size), :]\n",
    "\n",
    "        feed_dict = {\n",
    "            tf_train_dataset : batch_data,\n",
    "            tf_train_labels : batch_labels,\n",
    "            keep_prob : 0.5\n",
    "        }\n",
    "        \n",
    "        _, l, predictions = session.run([optimizer, loss, train_prediction], feed_dict=feed_dict)\n",
    "\n",
    "        if (step % 500 == 0):\n",
    "                print(\"Minibatch loss at step {}: {}\".format(step, l))\n",
    "                print(\"Minibatch accuracy: {:.1f}\".format(accuracy(predictions, batch_labels)))\n",
    "                print(\"Validation accuracy: {:.1f}\".format(accuracy(valid_prediction.eval(), valid_labels)))\n",
    "    print(\"Test accuracy: {:.1f}\".format(accuracy(test_prediction.eval(), test_labels)))"
   ]
  },
  {
   "cell_type": "code",
   "execution_count": null,
   "metadata": {},
   "outputs": [],
   "source": []
  }
 ],
 "metadata": {
  "colab": {
   "default_view": {},
   "name": "3_regularization.ipynb",
   "provenance": [],
   "version": "0.3.2",
   "views": {}
  },
  "kernelspec": {
   "display_name": "Python 3",
   "language": "python",
   "name": "python3"
  },
  "language_info": {
   "codemirror_mode": {
    "name": "ipython",
    "version": 3
   },
   "file_extension": ".py",
   "mimetype": "text/x-python",
   "name": "python",
   "nbconvert_exporter": "python",
   "pygments_lexer": "ipython3",
   "version": "3.5.2"
  }
 },
 "nbformat": 4,
 "nbformat_minor": 1
}
